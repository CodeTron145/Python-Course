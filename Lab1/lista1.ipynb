{
 "cells": [
  {
   "cell_type": "markdown",
   "metadata": {},
   "source": [
    "# Lista 1\n",
    "\n",
    "## Kurs wybranego języka programowania (Python)\n",
    "\n",
    "Wszystkie rozwiązania proszę wpisać w tym notatniku poniżej treści zadań. Zadania z `*` to zadania dodatkowe."
   ]
  },
  {
   "cell_type": "markdown",
   "metadata": {},
   "source": [
    "## Zadanie 1 _(5pt)_\n",
    "\n",
    "Napisz funkcję, który wyświetla trójkąt Pascala o zadanej wysokości\n",
    "```\n",
    "                1\n",
    "              1   1\n",
    "            1   2   1\n",
    "          1   3   3   1\n",
    "        1   4   6   4   1\n",
    "      .....................\n",
    "```"
   ]
  },
  {
   "cell_type": "code",
   "execution_count": 2,
   "metadata": {},
   "outputs": [
    {
     "name": "stdout",
     "output_type": "stream",
     "text": [
      "                                1                                 \n",
      "                               1 1                                \n",
      "                              1 2 1                               \n",
      "                             1 3 3 1                              \n",
      "                            1 4 6 4 1                             \n",
      "                          1 5 10 10 5 1                           \n",
      "                         1 6 15 20 15 6 1                         \n",
      "                       1 7 21 35 35 21 7 1                        \n",
      "                      1 8 28 56 70 56 28 8 1                      \n",
      "                   1 9 36 84 126 126 84 36 9 1                    \n",
      "               1 10 45 120 210 252 210 120 45 10 1                \n"
     ]
    }
   ],
   "source": [
    "def pascal_triangle(n):\n",
    "     for line in range(1, n + 1):\n",
    "        liczba = 1\n",
    "        arr = []\n",
    "        for i in range(1, line+1):\n",
    "            arr.append(liczba)\n",
    "            liczba = int(liczba * (line - i) / i)\n",
    "        wiersz = ' '.join(str(e) for e in arr)\n",
    "        print(wiersz.center((n+1)*n//2))\n",
    "          \n",
    "pascal_triangle(11)"
   ]
  },
  {
   "cell_type": "markdown",
   "metadata": {},
   "source": [
    "## Zadanie 2 _(5pt)_\n",
    "\n",
    "Napisz funkcję `primes(n)` zwracająca listę liczb pierwszych nie większych niż $n$ np.\n",
    "\n",
    "```\n",
    "In [ ]:   primes(6)\n",
    "Out [ ]: [2, 3, 5]\n",
    "```"
   ]
  },
  {
   "cell_type": "code",
   "execution_count": 78,
   "metadata": {},
   "outputs": [
    {
     "name": "stdout",
     "output_type": "stream",
     "text": [
      "2\n",
      "3\n",
      "5\n",
      "7\n",
      "11\n",
      "13\n",
      "17\n",
      "19\n",
      "23\n",
      "29\n",
      "31\n",
      "37\n",
      "41\n",
      "43\n",
      "47\n",
      "53\n",
      "59\n",
      "61\n",
      "67\n",
      "71\n",
      "73\n",
      "79\n",
      "83\n",
      "89\n",
      "97\n"
     ]
    }
   ],
   "source": [
    "def primes(n):\n",
    "    for i in range(2, n+1):\n",
    "        for j in range(2, i+1):\n",
    "            if j == i:\n",
    "                print(i)\n",
    "            elif i % j == 0:\n",
    "                break\n",
    "                \n",
    "primes(100) "
   ]
  },
  {
   "cell_type": "markdown",
   "metadata": {},
   "source": [
    "## Zadanie 3 _(5pt)_\n",
    "\n",
    "Napisz funkcje, która usuwa wszystkie powtarzające się elementy z listy (tak, że każdy element występuje tylko raz) np. z listy `[1,1,2,2,2,3,3,5,5,5,4,4,4,0]` dostajemy `[1,2,3,5,4,0]`."
   ]
  },
  {
   "cell_type": "code",
   "execution_count": 3,
   "metadata": {},
   "outputs": [
    {
     "name": "stdout",
     "output_type": "stream",
     "text": [
      "[1, 2, 3, 5, 4, 0] "
     ]
    }
   ],
   "source": [
    "def usuwator(arr):\n",
    "\n",
    "    tmp = []\n",
    "    for i in arr:\n",
    "        if i not in tmp:\n",
    "            tmp.append(i)\n",
    "\n",
    "    arr = tmp\n",
    "\n",
    "    print(arr, end=\" \")\n",
    "\n",
    "usuwator([1,1,2,2,2,3,3,5,5,5,4,4,4,0])"
   ]
  },
  {
   "cell_type": "markdown",
   "metadata": {},
   "source": [
    "## Zadanie 4 _(10pt)_\n",
    "\n",
    "Napisz funkcję `prime_factors(n)`, która rozkłada $n$ na czynniki pierwsze i jako wynik wraca listę par $[(p_1,\\alpha_1), (p_2,\\alpha_2), \\ldots, (p_k, \\alpha_k)]$ taką, że $p_1^{\\alpha_1}p_2^{\\alpha_2}\\ldots p_k^{\\alpha_k}$.\n"
   ]
  },
  {
   "cell_type": "code",
   "execution_count": 5,
   "metadata": {},
   "outputs": [
    {
     "name": "stdout",
     "output_type": "stream",
     "text": [
      "[(2, 2), (3, 1)]\n"
     ]
    }
   ],
   "source": [
    "def prime_factors(n):\n",
    "\n",
    "    arr_otp = []\n",
    "\n",
    "    a = 0\n",
    "    p = 2\n",
    "    while n != 1:\n",
    "        if n % p == 0:\n",
    "            n = n // p\n",
    "            a += 1\n",
    "        else:\n",
    "            if a != 0:\n",
    "                arr_otp.append((p, a))\n",
    "            p += 1\n",
    "            a = 0\n",
    "    else:\n",
    "        arr_otp.append((p, a))\n",
    "\n",
    "    print(arr_otp)\n",
    "\n",
    "prime_factors(12)"
   ]
  },
  {
   "cell_type": "markdown",
   "metadata": {},
   "source": [
    "## Zadanie 5 _(10pt)_\n",
    "\n",
    "Napisz funkcję `fraczero(n)` liczącą silnie $n!$ dla $n$ od $0$ do $10000$ oraz jako wynik wraca liczbę zer na końcu $n!$."
   ]
  },
  {
   "cell_type": "code",
   "execution_count": 8,
   "metadata": {
    "scrolled": false
   },
   "outputs": [
    {
     "name": "stdout",
     "output_type": "stream",
     "text": [
      "120\n",
      "1\n"
     ]
    }
   ],
   "source": [
    "def fraczero(n):\n",
    "\n",
    "    silnia = 1\n",
    "    for i in range(1, n+1):\n",
    "        silnia *= i\n",
    "\n",
    "    i = 1\n",
    "    zera = 0\n",
    "    while silnia % i == 0:\n",
    "        if i == 1:\n",
    "            i *= 10\n",
    "        else:\n",
    "            i *= 10\n",
    "            zera += 1\n",
    "\n",
    "    print(silnia)\n",
    "    print(zera)\n",
    "\n",
    "fraczero(5)"
   ]
  },
  {
   "cell_type": "markdown",
   "metadata": {},
   "source": [
    "## Zadanie 6 _(10pt)_\n",
    "\n",
    "Napisz program, który generuje liczbę $20$ liczb losowych (rozkład jednostajny) od $1$ do $100$\n",
    "* Wyświetl listę wygenerowanych liczb\n",
    "* Wyświetl średnią\n",
    "* Wyświetl największą i najmniejszą wartość\n",
    "* Wyświetl drugą największą i drugą najmniejszą wartość na liście\n",
    "* Wyświetl ile jest liczb parzystych na liście\n",
    " "
   ]
  },
  {
   "cell_type": "code",
   "execution_count": 74,
   "metadata": {},
   "outputs": [
    {
     "name": "stdout",
     "output_type": "stream",
     "text": [
      "Zgenerowane liczby: \n",
      "[55, 55, 52, 11, 45, 35, 31, 56, 9, 83, 46, 49, 35, 65, 55, 63, 9, 82, 59]\n",
      " \n",
      "Średnia: \n",
      "44.75\n",
      " \n",
      "Minimalny element: 9\n",
      "Maksymalny element: 83\n",
      " \n",
      "Drugi minimalny element: 11\n",
      "Drugi maksymalny element: 82\n",
      " \n",
      "Ilość liczb parzystych: \n",
      "4\n",
      " \n",
      "I na koniec nasza liczba: \n",
      "555552114535315698346493565556398259\n",
      " \n"
     ]
    }
   ],
   "source": [
    "import random\n",
    "\n",
    "def generator_los():\n",
    "    arr_liczba = []\n",
    "\n",
    "    for liczba in range(0, 19):\n",
    "        arr_liczba.append(random.randint(0, 100))\n",
    "\n",
    "    print(\"Zgenerowane liczby: \")\n",
    "    print(arr_liczba)\n",
    "    print(\" \")\n",
    "\n",
    "    tmp = 0\n",
    "    for i in range(len(arr_liczba)):\n",
    "        tmp += arr_liczba[i]\n",
    "\n",
    "    print(\"Średnia: \")\n",
    "    srednia = tmp / 20\n",
    "    print(srednia)\n",
    "    print(\" \")\n",
    "\n",
    "    min_el = min(arr_liczba)\n",
    "    print(\"Minimalny element: \" + str(min_el))\n",
    "    max_el = max(arr_liczba)\n",
    "    print(\"Maksymalny element: \" + str(max_el))\n",
    "    print(\" \")\n",
    "\n",
    "    min_el2 = min(x for x in arr_liczba if x != min(arr_liczba))\n",
    "    print(\"Drugi minimalny element: \" + str(min_el2))\n",
    "    max_el2 = max(x for x in arr_liczba if x != max(arr_liczba))\n",
    "    print(\"Drugi maksymalny element: \" + str(max_el2))\n",
    "    print(\" \")\n",
    "\n",
    "    parzyste = []\n",
    "    for i in range(len(arr_liczba)):\n",
    "        if arr_liczba[i] % 2 == 0:\n",
    "            parzyste.append(arr_liczba[i])\n",
    "\n",
    "    print(\"Ilość liczb parzystych: \")\n",
    "    print(len(parzyste))\n",
    "    print(\" \")\n",
    "\n",
    "    print(\"I na koniec nasza liczba: \")\n",
    "    liczba = ''.join(str(e) for e in arr_liczba)\n",
    "    print(liczba)\n",
    "    print(\" \")\n",
    "\n",
    "\n",
    "generator_los()\n"
   ]
  },
  {
   "cell_type": "markdown",
   "metadata": {},
   "source": [
    "## Zadanie 7 _(10pt)_\n",
    "\n",
    "Załóżmy, że mamy następującą listę: `L = ['aababacaa', 'cabaabcca', 'aaabbcbacb', 'acababbaab', ...]` wygenerowaną losowo tzn. lista zawiera losowe ciągi znaków o zadanej długości z liter `'a'`, `'b'` i `'c'`. Takie wzorce występują w wielu miejscach np. sekwencje DNA. Użytkownik zawiera swój (wzorzec) ciąg znaków z literami i pustymi miejscami oznaczonymi przez `'*'` np. `\"a**a******\"`. Wykorzystaj słownik z kluczami zawierającymi indeksy znaków różnych od `'*'` i wartościami liter z wzorca. Napisz program, który znajduje wszystkie sekwencje z listy, które pasuje do podanego wzorca."
   ]
  },
  {
   "cell_type": "code",
   "execution_count": 80,
   "metadata": {},
   "outputs": [
    {
     "name": "stdout",
     "output_type": "stream",
     "text": [
      "abababacac\n",
      "accccbbabc\n",
      "acabababbc\n"
     ]
    }
   ],
   "source": [
    "def searcher(dlugosc, ciag):\n",
    "    slownik = {'a': 1, 'b': 2, 'c': 3}\n",
    "\n",
    "    lista = []\n",
    "    for i in range(0, dlugosc):\n",
    "        lista.append(''.join(random.choice(list(slownik.keys())) for j in range(dlugosc)))\n",
    "\n",
    "    tmp_ciag = list(ciag)\n",
    "\n",
    "    tmp_lista = lista\n",
    "    index_ciag = 0\n",
    "    index_lista = 0\n",
    "    for i in tmp_lista:\n",
    "        for j in i:\n",
    "            if j == tmp_ciag[index_ciag] and tmp_ciag[index_ciag] != '*':\n",
    "                index_ciag += 1\n",
    "                continue\n",
    "            elif tmp_ciag[index_ciag] == '*':\n",
    "                ciag_list_i = list(i)\n",
    "                ciag_list_i[index_ciag] = '*'\n",
    "                ciag_i = ''.join(ciag_list_i)\n",
    "                index_ciag += 1\n",
    "                i = ciag_i\n",
    "            else:\n",
    "                index_ciag += 1\n",
    "        index_ciag = 0\n",
    "        if i == ciag:\n",
    "            print(lista[index_lista])\n",
    "        index_lista += 1\n",
    "\n",
    "     \n",
    "searcher(10, \"a****b****\")"
   ]
  },
  {
   "cell_type": "markdown",
   "metadata": {},
   "source": [
    "## Zadanie 8 _(10pt)_\n",
    "\n",
    "Napisz program, który konwerteruje liczby rzymskie na liczby arabskie. Do zapisu liczb rzymskich używa\n",
    "się 7 liter: `I=1`, `V=5`, `X=10`, `L=50`, `C=100`, `D=500`, `M=1000`. Opis algorytmu zamiany z i na system rzymski można znaleźć np. [tutaj](http://www.algorytm.org/algorytmy-arytmetyczne/zamiana-z-i-na-system-rzymski.html)"
   ]
  },
  {
   "cell_type": "code",
   "execution_count": 1,
   "metadata": {},
   "outputs": [
    {
     "name": "stdout",
     "output_type": "stream",
     "text": [
      "4\n"
     ]
    }
   ],
   "source": [
    "def roman_to_int(number):\n",
    "    rom_val = {'I': 1, 'V': 5, 'X': 10, 'L': 50, 'C': 100, 'D': 500, 'M': 1000}\n",
    "    int_val = 0\n",
    "\n",
    "    for i in range(len(number)):\n",
    "        if i > 0 and rom_val[number[i]] > rom_val[number[i - 1]]:\n",
    "            int_val += rom_val[number[i]] - 2 * rom_val[number[i - 1]]\n",
    "        else:\n",
    "            int_val += rom_val[number[i]]\n",
    "\n",
    "    print(int_val)\n",
    "\n",
    "roman_to_int('IV')"
   ]
  },
  {
   "cell_type": "markdown",
   "metadata": {},
   "source": [
    "## Zadanie 9* _(5pt)_\n",
    "\n",
    "Napisz program kalkulator, który pobiera wprowadzone wartości oraz funkcje z klawiatury następnie podaje wynik. W przypadku błędnych danych zgłasza błąd.\n",
    "\n",
    "Przykładowa sesja:\n",
    "```\n",
    "    Kalkulator\n",
    "    [1]: 2+5*10\n",
    "        52\n",
    "    [2]: sin(0.5)+cos(0.3)\n",
    "        1.434762027729809\n",
    "    [3]: 2^100\n",
    "        1267650600228229401496703205376\n",
    "```\n",
    "\n",
    "Przykładowy kod pobierania danych od użytkownika:\n",
    "\n",
    "```\n",
    "    x = input('Podaj x = ')\n",
    "```"
   ]
  },
  {
   "cell_type": "code",
   "execution_count": 1,
   "metadata": {},
   "outputs": [
    {
     "name": "stdout",
     "output_type": "stream",
     "text": [
      "Podaj wyrazenie: 3^3^6\n",
      "662818605424187176105172864214479748588986673875686419462793267420461248113287928124072014075084032555900857691049061274135779819474602180821485109388447092848836753879024702508785576075431392037236950553064188689954912598712398079759040464474717726449363185622056684690721420542800623411346656785162817900551337542270334990205437212700131838846883\n"
     ]
    }
   ],
   "source": [
    "import parser\n",
    "from math import *\n",
    "import sys\n",
    "\n",
    "def kalkulator():\n",
    "    wejscie = str(input('Podaj wyrazenie: '))\n",
    "    wejscie_fine = wejscie.replace('^', \"**\")\n",
    "    try:\n",
    "        kod = parser.expr(wejscie_fine).compile()\n",
    "    except SyntaxError:\n",
    "        print(\"Nieprawidłowo wpisałeś dane. Sprobuj ponownie!\")\n",
    "        sys.exit()\n",
    "\n",
    "    try:\n",
    "        print(eval(kod))\n",
    "    except ZeroDivisionError:\n",
    "        print(\"Dzielinie przez zero jest zabronione!\")\n",
    "        sys.exit()\n",
    "\n",
    "\n",
    "kalkulator()\n"
   ]
  },
  {
   "cell_type": "markdown",
   "metadata": {},
   "source": [
    "\n",
    "## Zadanie 10* _(10pt)_\n",
    "\n",
    "Napisz program, który rysuje na ekranie w trybie znakowym wykres funkcji zmiennej $x$. Wskazówka: utwórz  ,,tablicę dwuwymiarową'' o wymiarach 80x24 i narysuj wykres w tej tablicy. Następnie wynik wyświetl na ekranie.\n",
    "\n",
    "```\n",
    "        Podaj funkcje f(x) = sin(x)\n",
    "        Podaj początek przedziału a = -pi\n",
    "        Podaj koniec przedziału b = pi\n",
    "                                                |\n",
    "                                                |\n",
    "                                                |              ***********\n",
    "                                                |           ***           ***\n",
    "                                                |         **                 **\n",
    "                                                |        *                     *\n",
    "                                                |      **                       **\n",
    "                                                |     *                           *\n",
    "                                                |   **                             **\n",
    "                                                |  *                                 *\n",
    "                                                | *                                   *\n",
    "                                                |*                                     *\n",
    "        ----------------------------------------|---------------------------------------\n",
    "          *                                   * |\n",
    "           *                                 *  |\n",
    "            **                             **   |\n",
    "              *                           *     |\n",
    "               **                       **      |\n",
    "                 *                     *        |\n",
    "                  **                 **         |\n",
    "                    ***           ***           |\n",
    "                       ***** *****              |\n",
    "                            *                   |\n",
    "                                                |\n",
    "```"
   ]
  },
  {
   "cell_type": "code",
   "execution_count": null,
   "metadata": {},
   "outputs": [],
   "source": []
  }
 ],
 "metadata": {
  "kernelspec": {
   "display_name": "Python 3",
   "language": "python",
   "name": "python3"
  },
  "language_info": {
   "codemirror_mode": {
    "name": "ipython",
    "version": 3
   },
   "file_extension": ".py",
   "mimetype": "text/x-python",
   "name": "python",
   "nbconvert_exporter": "python",
   "pygments_lexer": "ipython3",
   "version": "3.7.5"
  }
 },
 "nbformat": 4,
 "nbformat_minor": 2
}
